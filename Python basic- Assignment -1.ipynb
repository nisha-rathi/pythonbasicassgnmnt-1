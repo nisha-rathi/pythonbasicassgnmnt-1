{
 "cells": [
  {
   "cell_type": "raw",
   "id": "aa7f669d",
   "metadata": {},
   "source": [
    "Q1 Ans- * -     Expression\n",
    "       'hello'- value\n",
    "       -87.8-   value\n",
    "       -        Expression\n",
    "       /        Expression\n",
    "       +        Expression\n",
    "       6 -      value\n",
    "       \n",
    "Q2 - What is the difference between string and variable?\n",
    "Ans-  A variable can store everything from strings to numbers. A string is the values inside the quotes assigned to a variable.eg- \"Ineuron\" \n",
    "\n",
    "Q3- Describe three different data types.\n",
    "Ans- In Python, numeric data type represent the data which has numeric value. Numeric value can be integer, floating number    or even complex numbers.\n",
    "    1- Numeric data type\n",
    "    eg- int a=5\n",
    "        float b=2.2\n",
    "        complex number c =i+5j\n",
    "    2- List- Lists are just like the arrays, declared in other languages which is a ordered collection of data. It is very   flexible as the items in a list do not need to be of the same type.\n",
    "    3- Tuple- Just like list, tuple is also an ordered collection of Python objects. The only difference between tuple and list is that tuples are immutable i.e. tuples cannot be modified after it is created.\n",
    "    \n",
    "Q4-  What is an expression made up of? What do all expressions do?\n",
    "Ans- An expression is a construct made up of variables, operators, and method invocations, which are constructed according to the syntax of the language, that evaluates to a single value.\n",
    "\n",
    "Q5 - This assignment statements, like spam = 10. What is the difference between an\n",
    "expression and a statement?\n",
    "Ans- An Expression always evaluates to a value. And, A statement does something, like creating a variable or displaying a value, it only does whatever the statement says.\n",
    "\n",
    "Q6 - After running the following code, what does the variable bacon contain?\n",
    "Ans- bacon = 22\n",
    "     bacon + 1\n",
    "     it gives 23 as an output.\n",
    "        \n",
    "Q7 - What should the values of the following two terms be?\n",
    "Ans- 'spam'+'spamspam'\n",
    "     'spam'*3 \n",
    "     it gives same output 'spamspamspam'\n",
    "     \n",
    "Q8-  Why is eggs a valid variable name while 100 is invalid?\n",
    "Ans - Because eggs itself is a valid variable name but 100 is invalid as it an integer but we can assign eggs=100 or eggs100 is valid.\n",
    "\n",
    "Q9-  What three functions can be used to get the integer, floating-point number, or string\n",
    "version of a value?\n",
    "Ans-str(), int(), float()\n",
    "\n",
    "Q10- Why does this expression cause an error? How can you fix it?\n",
    "    'i hv eaten'+99+'burritos'\n",
    "Ans- because 99 is an integer it cannot be concatenated with strings, if we have to concatenate it we need to do typecasting.  \n",
    "\n",
    "   \n",
    "\n",
    "       \n"
   ]
  }
 ],
 "metadata": {
  "kernelspec": {
   "display_name": "Python 3 (ipykernel)",
   "language": "python",
   "name": "python3"
  },
  "language_info": {
   "codemirror_mode": {
    "name": "ipython",
    "version": 3
   },
   "file_extension": ".py",
   "mimetype": "text/x-python",
   "name": "python",
   "nbconvert_exporter": "python",
   "pygments_lexer": "ipython3",
   "version": "3.9.7"
  }
 },
 "nbformat": 4,
 "nbformat_minor": 5
}
